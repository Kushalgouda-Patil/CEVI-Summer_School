{
 "cells": [
  {
   "cell_type": "code",
   "execution_count": 13,
   "id": "0049c2d6",
   "metadata": {
    "scrolled": true
   },
   "outputs": [],
   "source": [
    "import cv2\n",
    "import matplotlib.pyplot as plt\n",
    "from IPython.display import Image\n",
    "import numpy as np"
   ]
  },
  {
   "cell_type": "code",
   "execution_count": 14,
   "id": "1e975589",
   "metadata": {},
   "outputs": [],
   "source": [
    "Image(\"checkerboard.png\")\n",
    "checker=cv2.imread(\"checkerboard.png\",cv2.IMREAD_GRAYSCALE)\n",
    "print(checker[:480,:480])\n",
    "checker=checker[:480,:480].astype(\"int16\")"
   ]
  },
  {
   "cell_type": "code",
   "execution_count": 15,
   "id": "f53c33bf",
   "metadata": {},
   "outputs": [],
   "source": [
    "plt.imshow(checker,cmap=\"gray\")"
   ]
  },
  {
   "cell_type": "code",
   "execution_count": 16,
   "id": "c8a6a030",
   "metadata": {},
   "outputs": [],
   "source": [
    "backup_checker=checker\n",
    "backup_checker.shape"
   ]
  },
  {
   "cell_type": "code",
   "execution_count": 17,
   "id": "bb066c78",
   "metadata": {},
   "outputs": [],
   "source": [
    "checker[240:,:240]=255\n",
    "plt.imshow(checker,cmap=\"gray\")"
   ]
  },
  {
   "cell_type": "code",
   "execution_count": 18,
   "id": "e87b21ed",
   "metadata": {},
   "outputs": [],
   "source": [
    "checker.reshape((230400))"
   ]
  },
  {
   "cell_type": "code",
   "execution_count": 19,
   "id": "abd71477",
   "metadata": {},
   "outputs": [],
   "source": [
    "balloon=cv2.imread(\"balloon.jpg\",cv2.IMREAD_COLOR)\n",
    "print(balloon.shape,balloon.dtype)"
   ]
  },
  {
   "cell_type": "code",
   "execution_count": 20,
   "id": "02e5ecde",
   "metadata": {},
   "outputs": [],
   "source": [
    "Image(\"balloon.jpg\")"
   ]
  },
  {
   "cell_type": "code",
   "execution_count": 21,
   "id": "d0d9ed9a",
   "metadata": {},
   "outputs": [],
   "source": [
    "b,g,r=cv2.split(balloon)\n",
    "plt.figure(figsize=[20,5])\n",
    "plt.subplot(141);plt.imshow(b)\n",
    "plt.subplot(141);plt.imshow(g)\n",
    "plt.subplot(141);plt.imshow(r)\n",
    "\n"
   ]
  },
  {
   "cell_type": "code",
   "execution_count": null,
   "id": "cce37a5c",
   "metadata": {},
   "outputs": [],
   "source": []
  }
 ],
 "metadata": {
  "kernelspec": {
   "display_name": "Python 3 (ipykernel)",
   "language": "python",
   "name": "python3"
  },
  "language_info": {
   "codemirror_mode": {
    "name": "ipython",
    "version": 3
   },
   "file_extension": ".py",
   "mimetype": "text/x-python",
   "name": "python",
   "nbconvert_exporter": "python",
   "pygments_lexer": "ipython3",
   "version": "3.10.9"
  }
 },
 "nbformat": 4,
 "nbformat_minor": 5
}
