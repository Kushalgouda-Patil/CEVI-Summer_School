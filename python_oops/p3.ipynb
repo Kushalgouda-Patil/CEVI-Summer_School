{
 "cells": [
  {
   "cell_type": "code",
   "execution_count": 32,
   "id": "cbbfbf53",
   "metadata": {},
   "outputs": [
    {
     "name": "stdout",
     "output_type": "stream",
     "text": [
      "Constructor is called\n"
     ]
    }
   ],
   "source": [
    "#python oops\n",
    "class employee:\n",
    "    __name=None\n",
    "    id=None\n",
    "    salary=None\n",
    "    def __init__(self,name,id,salary):\n",
    "        self.__name=name\n",
    "        self.id=id\n",
    "        self.salary=salary\n",
    "        print(\"Constructor is called\")\n",
    "    def get_salary(self):\n",
    "        print(\"Salary fn is called\")\n",
    "        return self.salary\n",
    "obj=employee(\"aman\",1,4500)"
   ]
  },
  {
   "cell_type": "code",
   "execution_count": 42,
   "id": "4741bfcb",
   "metadata": {},
   "outputs": [
    {
     "data": {
      "text/plain": [
       "1"
      ]
     },
     "execution_count": 42,
     "metadata": {},
     "output_type": "execute_result"
    }
   ],
   "source": [
    "obj.id"
   ]
  },
  {
   "cell_type": "code",
   "execution_count": 34,
   "id": "9c4c557c",
   "metadata": {},
   "outputs": [
    {
     "name": "stdout",
     "output_type": "stream",
     "text": [
      "Constructor is called\n"
     ]
    }
   ],
   "source": [
    "class lecture(employee):\n",
    "    department=None\n",
    "    def __init__(self,name,id,salary,department):\n",
    "        self.department=department\n",
    "        employee.__init__(self,name,id,salary)\n",
    "    def get_department(self):\n",
    "        return self.department\n",
    "obj2=lecture(\"Harry\",5,5000,\"EC\")\n",
    "\n",
    "        \n",
    "    \n",
    "    \n",
    "    "
   ]
  },
  {
   "cell_type": "code",
   "execution_count": 35,
   "id": "bdea9421",
   "metadata": {},
   "outputs": [
    {
     "name": "stdout",
     "output_type": "stream",
     "text": [
      "EC\n"
     ]
    }
   ],
   "source": [
    "print(obj2.get_department())"
   ]
  },
  {
   "cell_type": "code",
   "execution_count": null,
   "id": "e66ea802",
   "metadata": {},
   "outputs": [],
   "source": []
  }
 ],
 "metadata": {
  "kernelspec": {
   "display_name": "Python 3 (ipykernel)",
   "language": "python",
   "name": "python3"
  },
  "language_info": {
   "codemirror_mode": {
    "name": "ipython",
    "version": 3
   },
   "file_extension": ".py",
   "mimetype": "text/x-python",
   "name": "python",
   "nbconvert_exporter": "python",
   "pygments_lexer": "ipython3",
   "version": "3.10.9"
  }
 },
 "nbformat": 4,
 "nbformat_minor": 5
}
